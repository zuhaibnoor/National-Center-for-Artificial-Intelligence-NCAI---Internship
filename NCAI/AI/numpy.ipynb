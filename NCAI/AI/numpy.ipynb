{
 "cells": [
  {
   "cell_type": "markdown",
   "id": "303fc8be-bbc4-4542-ad05-53d9337c6111",
   "metadata": {},
   "source": [
    "# NUMPY\n",
    "Numpy is a python library used for "
   ]
  },
  {
   "cell_type": "code",
   "execution_count": null,
   "id": "e7a672c5-b862-486e-9499-cda72274f11b",
   "metadata": {},
   "outputs": [],
   "source": []
  }
 ],
 "metadata": {
  "kernelspec": {
   "display_name": "Python 3 (ipykernel)",
   "language": "python",
   "name": "python3"
  },
  "language_info": {
   "codemirror_mode": {
    "name": "ipython",
    "version": 3
   },
   "file_extension": ".py",
   "mimetype": "text/x-python",
   "name": "python",
   "nbconvert_exporter": "python",
   "pygments_lexer": "ipython3",
   "version": "3.11.0"
  }
 },
 "nbformat": 4,
 "nbformat_minor": 5
}
